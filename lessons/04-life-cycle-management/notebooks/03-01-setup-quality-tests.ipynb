{
 "cells": [
  {
   "cell_type": "markdown",
   "metadata": {},
   "source": [
    "<h1>Part 03 - Data Management</h1>\n",
    "\n",
    "<h2>Exercise 01 - Data Quality Test with Great Expectations</h2>\n",
    "\n",
    "\n",
    "<font size=\"3\">\n",
    "Goal of this section is to get to know better data management tools, in particular Great Expectation, which allows you to perform data quality assessment & alerting on your day to day projects.\n",
    "\n",
    "We will continue using the TLC trip record data, deep dive specifically into these datasets to catch data quality issues & encode our own set of rules & triggers.\n",
    "</font>"
   ]
  },
  {
   "cell_type": "markdown",
   "metadata": {},
   "source": [
    "## 1 - Getting familiar with the data"
   ]
  },
  {
   "cell_type": "markdown",
   "metadata": {},
   "source": [
    "### 1-1. Downloading our data\n",
    "\n",
    "To start with, let's download our data: we will use a larger dataset containing several details about January 2022 \"for hire vehicles\" trips in NYC (Uber, Lyft...). This dataset has been lightly modified for the purpose of our exercise. Let's download it & save it under our data folder. "
   ]
  },
  {
   "cell_type": "code",
   "execution_count": null,
   "metadata": {
    "tags": []
   },
   "outputs": [],
   "source": [
    "import gdown\n",
    "import os\n",
    "\n",
    "data_folder = \"data\"\n",
    "\n",
    "# Check whether the specified path exists or not\n",
    "isExist = os.path.exists(data_folder)\n",
    "if not isExist:\n",
    "    # Create a new directory because it does not exist\n",
    "    os.makedirs(data_folder)\n",
    "    print(f\"New directory {data_folder} created!\")\n",
    "\n",
    "gdown.download(\n",
    "    \"https://drive.google.com/uc?id=1xQ8heQzUkKehOUPYvrHIqQ_pDJNCH9tT\",\n",
    "    \"data/taxi-trips-2022-01.parquet\",\n",
    "    quiet=False,\n",
    ")\n",
    "gdown.download(\n",
    "    \"https://drive.google.com/uc?id=11kOFkDJIXSW2Hu0o2o-PWBhTJi0msYfH\",\n",
    "    \"data/taxi-trips-2022-02.parquet\",\n",
    "    quiet=False,\n",
    ")"
   ]
  },
  {
   "cell_type": "markdown",
   "metadata": {},
   "source": [
    "### 1-2. Loading our data\n",
    "\n",
    "Our data is composed of several columns, the most interesting ones being:\n",
    "- `hvfhs_license_num`: this is the Taxi & License Commission license number of the company operating the trip. Possible values are HV0002 (Juno), HV0003 (Uber), HV0004 (Via), HV0005 (Lyft).\n",
    "- `request_datetime`, `on_scene_datetime`, `pickup_datetime`, `dropoff_datetime`: logs datetime for ride request, when driver arrived, picked-up & dropped off passenger(s).\n",
    "- `PULocationID`, `DOLocationID`: where the trip began & ended. Those are `int` values.\n",
    "- `trip_miles`, `trip_time`: miles for passenger trip & total time in seconds of trip\n",
    "- `base_passenger_fare`: base fare excluding toll (`tolls`), tips (`tips`), taxes (`sales_tax`) and fees (`airport_fee`, `congestion_surcharge`, `bcf`). \n",
    "- `driver_pay`: total driver pay (exclusing tools, tips, commission, taxes...)\n",
    "- `shared_match_flag`: did the passenger share the vehicle with another passenger who booked separately? (Y/N)\n",
    "\n",
    "Let's load it and print the first rows."
   ]
  },
  {
   "cell_type": "code",
   "execution_count": null,
   "metadata": {
    "tags": []
   },
   "outputs": [],
   "source": [
    "import pandas as pd\n",
    "\n",
    "data = pd.read_parquet(\"data/taxi-trips-2022-01.parquet\")\n",
    "data.head()"
   ]
  },
  {
   "cell_type": "markdown",
   "metadata": {},
   "source": [
    "### 1-3. Exploring our data\n",
    "\n",
    "Let's assume our goal will be to create an application able to predict the fare of a trip, from the pick-up & dropoff locations. We will eventually be using the following columns:\n",
    "- `base_passenger_fare`: our target variable\n",
    "- `hvfhs_license_num`: fare might depend on operating company (HV0003 or HV0005)\n",
    "- `request_datetime`, `on_scene_datetime`, `pickup_datetime`, `dropoff_datetime`: fare might depend on congestion & time of pickup\n",
    "- `PULocationID`, `DOLocationID`: fare will depend on pick up and drop off location\n",
    "- `trip_miles`, `trip_time`: these fields might be useful to normalize training data\n",
    "\n",
    "Let's first explore quality of these key fields. What can you see? Is data quality sufficient?"
   ]
  },
  {
   "cell_type": "code",
   "execution_count": null,
   "metadata": {},
   "outputs": [],
   "source": []
  },
  {
   "cell_type": "markdown",
   "metadata": {},
   "source": [
    "**Conclusion:** : \n",
    "- TODO"
   ]
  },
  {
   "cell_type": "markdown",
   "metadata": {},
   "source": [
    "## 2 - Installing Great Expectations"
   ]
  },
  {
   "cell_type": "markdown",
   "metadata": {},
   "source": [
    "Great expectation allows us to:\n",
    "- define data quality rules in a language agnostic format (as config files)\n",
    "- run these data quality checks & rules on various types of data sources\n",
    "- trigger actions & alerting whenever a rule breaks\n",
    "- generate data quality reports easily from our set of rules\n",
    "\n",
    "Your environment should already contain great expectation as a python library. Otherwise you can simply follow the following commands to install it: https://docs.greatexpectations.io/docs/guides/setup/installation/local"
   ]
  },
  {
   "cell_type": "code",
   "execution_count": null,
   "metadata": {
    "tags": []
   },
   "outputs": [],
   "source": [
    "%pip list | grep great-expectations"
   ]
  },
  {
   "cell_type": "markdown",
   "metadata": {},
   "source": [
    "## 3 - Getting to know Great Expectations"
   ]
  },
  {
   "cell_type": "markdown",
   "metadata": {},
   "source": [
    "### 3-1. Connecting to our data"
   ]
  },
  {
   "cell_type": "markdown",
   "metadata": {},
   "source": [
    "As we will see, Great expectations, works with a lot of configuration files (`.yml`, `.json`). This enables us to stay language & datasource agnostic, and to have our rules & checks documented as config and not hard coded.\n",
    "\n",
    "The main entrypoint & best practice to manage 'rules' is to have a folder `gx` where we will store all our config. \n",
    "\n",
    "Before starting implementing checks & triggers, we first need to connect to a dataset, and explain to Great Expectation how to connect to it. This can usually be best done in the following main file: `gx/great_expectations.yml`. "
   ]
  },
  {
   "cell_type": "code",
   "execution_count": null,
   "metadata": {},
   "outputs": [],
   "source": [
    "import yaml\n",
    "from pprint import pprint\n",
    "\n",
    "with open(\"great_expectations/great_expectations.yml\", \"r\") as stream:\n",
    "    try:\n",
    "        ge_config = yaml.safe_load(stream)\n",
    "    except yaml.YAMLError as exc:\n",
    "        print(exc)\n",
    "\n",
    "pprint(ge_config[\"datasources\"], indent=0)"
   ]
  },
  {
   "cell_type": "markdown",
   "metadata": {},
   "source": [
    "We have already made part of our task: and told great expectation where to find our dataset, and how to read it (using Pandas & the parquet read function)."
   ]
  },
  {
   "cell_type": "markdown",
   "metadata": {},
   "source": [
    "### 3-2. Writing a first expectation\n",
    "Data quality rules (or \"expectations\") can also be written in config files and are stored in the `gx/expectations/` folder.\n",
    "We have already written one expecting the base fare not to be negative."
   ]
  },
  {
   "cell_type": "code",
   "execution_count": null,
   "metadata": {
    "tags": []
   },
   "outputs": [],
   "source": [
    "import json\n",
    "\n",
    "# Open JSON file\n",
    "with open(\"great_expectations/expectations/taxi-trips-expectations.json\", \"r\") as f:\n",
    "    data = json.load(f)\n",
    "\n",
    "# Pretty print JSON data\n",
    "print(json.dumps(data, indent=4))"
   ]
  },
  {
   "cell_type": "markdown",
   "metadata": {},
   "source": [
    "You will have to define your own expectations afterwards, feel free to [explore the doc](https://docs.greatexpectations.io/docs/guides/expectations/how_to_create_and_edit_expectations_based_on_domain_knowledge_without_inspecting_data_directly) to understand the JSON definition of expectations."
   ]
  },
  {
   "cell_type": "markdown",
   "metadata": {},
   "source": [
    "### 3-3. Checking our data\n",
    "Now that we can connect to our data... and have defined a set of data quality rules, how do we apply these rules to our datasources? As you would expect, great expectations also uses configuration files to run data checks, as found in the `great_expectations/checkpoints/` folder. Where we bin a datasource (and particularly a data asset) to a suite of expectations."
   ]
  },
  {
   "cell_type": "code",
   "execution_count": null,
   "metadata": {},
   "outputs": [],
   "source": [
    "with open(\"great_expectations/checkpoints/taxi-trips-checkpoint.yml\", \"r\") as stream:\n",
    "    try:\n",
    "        chkp_config = yaml.safe_load(stream)\n",
    "    except yaml.YAMLError as exc:\n",
    "        print(exc)\n",
    "\n",
    "pprint(chkp_config)"
   ]
  },
  {
   "cell_type": "markdown",
   "metadata": {},
   "source": [
    "Again, take some time to [follow the documentation](https://docs.greatexpectations.io/docs/guides/validation/checkpoints/how_to_create_a_new_checkpoint/) to understand the content of this file."
   ]
  },
  {
   "cell_type": "markdown",
   "metadata": {},
   "source": [
    "Before running our checkpoint, let's introduce the `great_expectations.data_context`: this object scans your repository and stores all datasources, checkpoints & expectations you have defined. You can then handle them from your code."
   ]
  },
  {
   "cell_type": "code",
   "execution_count": null,
   "metadata": {},
   "outputs": [],
   "source": [
    "import great_expectations as gx\n",
    "import great_expectations.jupyter_ux\n",
    "from great_expectations.datasource.types import BatchKwargs\n",
    "\n",
    "import datetime\n",
    "\n",
    "# context = gx.get_context()\n",
    "context = gx.data_context.DataContext()\n",
    "print(context.list_expectation_suite_names())\n",
    "print([datasource[\"name\"] for datasource in context.list_datasources()])\n",
    "print(context.list_checkpoints())"
   ]
  },
  {
   "cell_type": "code",
   "execution_count": null,
   "metadata": {
    "tags": []
   },
   "outputs": [],
   "source": [
    "context.list_checkpoints()"
   ]
  },
  {
   "cell_type": "markdown",
   "metadata": {},
   "source": [
    "You can now run a checkpoint"
   ]
  },
  {
   "cell_type": "code",
   "execution_count": null,
   "metadata": {},
   "outputs": [],
   "source": [
    "context.run_checkpoint(checkpoint_name=\"taxi-trips-checkpoint\")"
   ]
  },
  {
   "cell_type": "markdown",
   "metadata": {},
   "source": [
    "Note that GE allows you to export your results in a simple html format"
   ]
  },
  {
   "cell_type": "code",
   "execution_count": null,
   "metadata": {},
   "outputs": [],
   "source": [
    "context.open_data_docs()"
   ]
  },
  {
   "cell_type": "markdown",
   "metadata": {},
   "source": [
    "## 4 - More expectations & more data!"
   ]
  },
  {
   "cell_type": "markdown",
   "metadata": {},
   "source": [
    "### 4-1. More expectations\n",
    "Now use what you have learnt to great 2 or 3 more expectations for your data. You can look for ideas there: https://greatexpectations.io/expectations/"
   ]
  },
  {
   "cell_type": "markdown",
   "metadata": {},
   "source": [
    "TODO : Create your expectations in the `great_expectations/expectations/taxi-trips-expectations.json` file and once it's done run the code below to make sure they works.\n"
   ]
  },
  {
   "cell_type": "code",
   "execution_count": null,
   "metadata": {},
   "outputs": [],
   "source": [
    "import json\n",
    "\n",
    "with open(\"great_expectations/expectations/taxi-trips-expectations.json\") as f:\n",
    "    expectation = json.load(f)\n",
    "\n",
    "pprint(expectation[\"expectations\"])"
   ]
  },
  {
   "cell_type": "markdown",
   "metadata": {},
   "source": [
    "### 4-2. Running our new expectations\n",
    "Update your checkpoint file & run the expectations you have just created. "
   ]
  },
  {
   "cell_type": "code",
   "execution_count": null,
   "metadata": {},
   "outputs": [],
   "source": [
    "context.run_checkpoint(checkpoint_name=\"taxi-trips-checkpoint\")\n",
    "context.open_data_docs()"
   ]
  },
  {
   "cell_type": "markdown",
   "metadata": {},
   "source": [
    "## 5 - Wrapping up"
   ]
  },
  {
   "cell_type": "markdown",
   "metadata": {},
   "source": [
    "In this short tutorial, you have seen how to configure a simple great expectations project & run a few data quality rules. The main takeaway is that GE allows you to create expectations & run them entirely with configuration, abstracting the connection to data sources behind.\n",
    "\n",
    "Other exercices you could work on:\n",
    "- Connecting to a distant datasource (s3, BigQuery...)\n",
    "- Writing your own expectation (not available in the gallery)\n",
    "- Using great expectations actions to avoid deploying if data quality is not as expected\n",
    "- Automate and schedule Data Quality test with Prefact (or any other orchestrator tool)"
   ]
  },
  {
   "cell_type": "markdown",
   "metadata": {},
   "source": []
  }
 ],
 "metadata": {
  "kernelspec": {
   "display_name": "Python 3.9.12 64-bit",
   "language": "python",
   "name": "python3"
  },
  "language_info": {
   "codemirror_mode": {
    "name": "ipython",
    "version": 3
   },
   "file_extension": ".py",
   "mimetype": "text/x-python",
   "name": "python",
   "nbconvert_exporter": "python",
   "pygments_lexer": "ipython3",
   "version": "3.9.12"
  },
  "vscode": {
   "interpreter": {
    "hash": "aee8b7b246df8f9039afb4144a1f6fd8d2ca17a180786b69acc140d282b71a49"
   }
  }
 },
 "nbformat": 4,
 "nbformat_minor": 4
}
