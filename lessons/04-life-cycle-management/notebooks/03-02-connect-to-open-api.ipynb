{
 "cells": [
  {
   "cell_type": "markdown",
   "id": "8c3a1bf5-0ee0-4f9a-8277-c5ab2aaf846b",
   "metadata": {},
   "source": [
    "<h1>Part 03 - Data Management</h1>\n",
    "\n",
    "<h2>Exercise 02 - Connect to an Open API</h2>\n",
    "\n",
    "\n",
    "<font size=\"3\">\n",
    "Goal of this section is to integrate your first API data, starting with an easy example of publicly open and free API that doesn't require any credentials to connect.\n",
    "\n",
    "With this exercise you will be able to code all the flow, from the request to the transformation of the JSON format into a CSV that is then persisted localy.\n",
    "</font>"
   ]
  },
  {
   "cell_type": "markdown",
   "id": "8b632819-989d-41c5-9e12-0d16ec754144",
   "metadata": {},
   "source": [
    "### Get the Data with a request"
   ]
  },
  {
   "cell_type": "code",
   "execution_count": null,
   "id": "5805ea94-3e62-46e5-9b77-181ef2ea89e2",
   "metadata": {
    "tags": []
   },
   "outputs": [],
   "source": [
    "import requests"
   ]
  },
  {
   "cell_type": "markdown",
   "id": "c6925085-a32b-43c0-a668-509f8372e456",
   "metadata": {},
   "source": [
    "Explore the [requests](https://pypi.org/project/requests/) documentation to call the https://api.coindesk.com/v1/bpi/currentprice.json API"
   ]
  },
  {
   "cell_type": "code",
   "execution_count": null,
   "id": "30ad4a6a-949d-49c7-9577-e2f2f745bb26",
   "metadata": {
    "tags": []
   },
   "outputs": [],
   "source": [
    "## Todo - use the request method to get a response and save it in a variable named \"response\""
   ]
  },
  {
   "cell_type": "markdown",
   "id": "fe7f9e20-d602-4da3-8259-b31cc9e6f90a",
   "metadata": {},
   "source": [
    "Get the JSON from the response"
   ]
  },
  {
   "cell_type": "code",
   "execution_count": null,
   "id": "ac1a7d61-a6e3-4e7a-8071-eb01f67ee21d",
   "metadata": {
    "tags": []
   },
   "outputs": [],
   "source": [
    "## Todo - export the json object contained in the response and store it in a variable named \"data_json\""
   ]
  },
  {
   "cell_type": "markdown",
   "id": "eefe1bbc-f4fa-44c2-9e1e-d593736b9b79",
   "metadata": {},
   "source": [
    "### Save the results into variables"
   ]
  },
  {
   "cell_type": "markdown",
   "id": "f7d42699-9b97-48f8-87ac-5a5c7408d9e5",
   "metadata": {},
   "source": [
    "Save the folowing values extracted in the JSON in dedicated variable :  \n",
    "- time = Time when the data was updated in ISO format\n",
    "- usd_rate = Rate of the BTC in USD in FLOAT format\n",
    "- eur_rate = Rate of the BTC in EUR in FLOAT format\n",
    "- gbp_rate = Rate of the BTC in GBP in FLOAT format"
   ]
  },
  {
   "cell_type": "code",
   "execution_count": null,
   "id": "960fd021-acff-464c-abaf-44b3dab8a1cf",
   "metadata": {
    "tags": []
   },
   "outputs": [],
   "source": [
    "# Tode - time"
   ]
  },
  {
   "cell_type": "code",
   "execution_count": null,
   "id": "4f7342eb-e3eb-4356-b694-e42edcbcad19",
   "metadata": {
    "tags": []
   },
   "outputs": [],
   "source": [
    "# Todo - usd_rate"
   ]
  },
  {
   "cell_type": "code",
   "execution_count": null,
   "id": "5757c7c6-a257-499f-a77b-80fdb7df6cc1",
   "metadata": {
    "tags": []
   },
   "outputs": [],
   "source": [
    "# Todo - eur_rate"
   ]
  },
  {
   "cell_type": "code",
   "execution_count": null,
   "id": "7607b917-e6f4-4669-80dd-5d7209f1f491",
   "metadata": {
    "tags": []
   },
   "outputs": [],
   "source": [
    "# Todo - gbp_rate"
   ]
  },
  {
   "cell_type": "markdown",
   "id": "77d272c1-7e14-4603-b9c9-eab667b1b37a",
   "metadata": {},
   "source": [
    "**Take a time to think :** what happens here if the JSON format coming from the API change ?"
   ]
  },
  {
   "cell_type": "markdown",
   "id": "f41cded7-fcb2-47d2-a925-96f589841ee3",
   "metadata": {},
   "source": [
    "**Todo** : Fill this cell with your answer"
   ]
  },
  {
   "cell_type": "markdown",
   "id": "df9dc7b1-0adf-4b7b-a697-c47b529a0316",
   "metadata": {},
   "source": [
    "### Save those values in a CSV file"
   ]
  },
  {
   "cell_type": "markdown",
   "id": "a3641dc2-e97c-4ead-b3a5-c3e4b28ad7cb",
   "metadata": {},
   "source": [
    "Create a CSV file, with the variable names as headers, and the values of those variable inserted in the first line. Save this file locally in the data folder named `data/today_BTC_rates.csv`"
   ]
  },
  {
   "cell_type": "code",
   "execution_count": null,
   "id": "554a2a7b-b5e3-4b17-8a91-a9bc3016621b",
   "metadata": {
    "tags": []
   },
   "outputs": [],
   "source": [
    "# Todo"
   ]
  },
  {
   "cell_type": "markdown",
   "id": "0fd89456-dc46-4c2e-bf09-bf9387b79d12",
   "metadata": {},
   "source": [
    "Test to read the result with the code below :"
   ]
  },
  {
   "cell_type": "code",
   "execution_count": null,
   "id": "136f3bb1-c7a9-4fd5-898d-f2640aee805d",
   "metadata": {
    "tags": []
   },
   "outputs": [],
   "source": [
    "import pandas as pd\n",
    "\n",
    "btc_rates = pd.read_csv(\"data/today_BTC_rates.csv\")\n",
    "btc_rates.head()"
   ]
  },
  {
   "cell_type": "markdown",
   "id": "28f5ba4e-2f05-4093-85e5-2624dedcb269",
   "metadata": {},
   "source": [
    "Now everytime your run the code above, you should be able to refresh the CSV based on todays' BTC rates and integrate this information in any system workflow where it's needed."
   ]
  },
  {
   "cell_type": "markdown",
   "id": "0dcc3bd0-a92f-4cde-839f-8e3a2dc11bf6",
   "metadata": {},
   "source": [
    "### Append to code to the local CSV"
   ]
  },
  {
   "cell_type": "markdown",
   "id": "43153451-4efc-4107-9257-ecb711e40591",
   "metadata": {},
   "source": [
    "But now what if we don't want to overwrite our file to keep an history of this BTC rates in the CSV file, just appending the last line of value to our CSV ?  \n",
    "Code the logic that will : \n",
    "- Create the `data/BTC_rates.csv` with the header if it doesn't exist\n",
    "- Append our line of value to the current file"
   ]
  },
  {
   "cell_type": "code",
   "execution_count": null,
   "id": "1d73a5ca-ba54-419b-82a6-53aee7bbcccc",
   "metadata": {
    "tags": []
   },
   "outputs": [],
   "source": [
    "# Todo"
   ]
  },
  {
   "cell_type": "markdown",
   "id": "eb72f324-ff0b-471a-9fd3-7fe0bf1d848f",
   "metadata": {},
   "source": [
    "Run the whole notebook several time and check if your CSV file is appending the new line of data with the following command :"
   ]
  },
  {
   "cell_type": "code",
   "execution_count": null,
   "id": "0b40e4d2-3004-40a6-99e4-fc1fdbb691ab",
   "metadata": {
    "tags": []
   },
   "outputs": [],
   "source": [
    "btc_rates = pd.read_csv(file_path)\n",
    "btc_rates.head()"
   ]
  },
  {
   "cell_type": "markdown",
   "id": "5683ff6b-486c-48a5-8592-71448c9a4294",
   "metadata": {
    "tags": []
   },
   "source": [
    "### Wrapping up"
   ]
  },
  {
   "cell_type": "markdown",
   "id": "b27b495a-4425-4552-98a4-92764875b320",
   "metadata": {},
   "source": [
    "Congratulations ! You are now able to build an history of BTC to USD / EUR / GBP data using an Open API. This code can be scheduled every day with Prefact to update your CSV file and to slowly be able to build a daily rates datasource. In the next steps we are going to explore how to connect to an API that is protected with an Authentication system."
   ]
  }
 ],
 "metadata": {
  "kernelspec": {
   "display_name": "Python 3.9.12 64-bit",
   "language": "python",
   "name": "python3"
  },
  "language_info": {
   "codemirror_mode": {
    "name": "ipython",
    "version": 3
   },
   "file_extension": ".py",
   "mimetype": "text/x-python",
   "name": "python",
   "nbconvert_exporter": "python",
   "pygments_lexer": "ipython3",
   "version": "3.9.12"
  },
  "vscode": {
   "interpreter": {
    "hash": "aee8b7b246df8f9039afb4144a1f6fd8d2ca17a180786b69acc140d282b71a49"
   }
  }
 },
 "nbformat": 4,
 "nbformat_minor": 5
}
