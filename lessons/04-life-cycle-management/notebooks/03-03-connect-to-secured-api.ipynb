{
 "cells": [
  {
   "cell_type": "markdown",
   "id": "8c3a1bf5-0ee0-4f9a-8277-c5ab2aaf846b",
   "metadata": {
    "tags": []
   },
   "source": [
    "# Part 03 - Data Management\n",
    "\n",
    "## Exercise 03 - Connect to a secured API\n",
    "\n",
    "Now that you integrated with success your first Open API data, the goal of this section is to go further and use a secured API using Authentication token. Search for any exchange rates API and try to retrieve the exchanges rate data for EUR to USD, GBP, CNY and DKK. The solution of this exercise will use [api.freecurrencyapi.com](https://api.freecurrencyapi.com/).  \n",
    "\n",
    "You can reuse the flow of the previous exercise, note that this time it will be a bit more difficult to build the request to get the data. "
   ]
  },
  {
   "cell_type": "markdown",
   "id": "8b632819-989d-41c5-9e12-0d16ec754144",
   "metadata": {},
   "source": [
    "### Get the Data with a request"
   ]
  },
  {
   "cell_type": "markdown",
   "id": "d2138b04-fd10-4203-8303-df8dac48e5ee",
   "metadata": {},
   "source": [
    "Search for any exchange rates API and try to retrieve the exchanges rate data for EUR to USD, GBP, CNY and DKK."
   ]
  },
  {
   "cell_type": "code",
   "execution_count": null,
   "id": "5805ea94-3e62-46e5-9b77-181ef2ea89e2",
   "metadata": {
    "tags": []
   },
   "outputs": [],
   "source": [
    "import requests"
   ]
  },
  {
   "cell_type": "code",
   "execution_count": null,
   "id": "ff75c993-2519-4566-b4dc-fc548599e8f5",
   "metadata": {
    "tags": []
   },
   "outputs": [],
   "source": [
    "# TODO"
   ]
  },
  {
   "cell_type": "markdown",
   "id": "fe7f9e20-d602-4da3-8259-b31cc9e6f90a",
   "metadata": {},
   "source": [
    "Get the JSON from the response"
   ]
  },
  {
   "cell_type": "code",
   "execution_count": null,
   "id": "ac1a7d61-a6e3-4e7a-8071-eb01f67ee21d",
   "metadata": {
    "tags": []
   },
   "outputs": [],
   "source": [
    "# TODO"
   ]
  },
  {
   "cell_type": "markdown",
   "id": "eefe1bbc-f4fa-44c2-9e1e-d593736b9b79",
   "metadata": {
    "tags": []
   },
   "source": [
    "### Save the results into variables"
   ]
  },
  {
   "cell_type": "code",
   "execution_count": null,
   "id": "fe0864d1-c1ce-4989-af5c-7e5f9635100b",
   "metadata": {
    "tags": []
   },
   "outputs": [],
   "source": [
    "# TODO"
   ]
  },
  {
   "cell_type": "markdown",
   "id": "df9dc7b1-0adf-4b7b-a697-c47b529a0316",
   "metadata": {},
   "source": [
    "### Save those values in a CSV file"
   ]
  },
  {
   "cell_type": "markdown",
   "id": "a3641dc2-e97c-4ead-b3a5-c3e4b28ad7cb",
   "metadata": {},
   "source": [
    "Create a CSV file, with the variable names as headers, and the values of those variable inserted in the first line. Save this file locally in the data folder named `data/today_EUR_rates.csv`"
   ]
  },
  {
   "cell_type": "code",
   "execution_count": null,
   "id": "554a2a7b-b5e3-4b17-8a91-a9bc3016621b",
   "metadata": {
    "tags": []
   },
   "outputs": [],
   "source": [
    "# TODO"
   ]
  },
  {
   "cell_type": "markdown",
   "id": "0fd89456-dc46-4c2e-bf09-bf9387b79d12",
   "metadata": {},
   "source": [
    "Test to read the result with the code below :"
   ]
  },
  {
   "cell_type": "code",
   "execution_count": null,
   "id": "136f3bb1-c7a9-4fd5-898d-f2640aee805d",
   "metadata": {
    "tags": []
   },
   "outputs": [],
   "source": [
    "import pandas as pd\n",
    "\n",
    "eur_rates = pd.read_csv(\"data/today_EUR_rates.csv\")\n",
    "eur_rates.head()"
   ]
  },
  {
   "cell_type": "markdown",
   "id": "0dcc3bd0-a92f-4cde-839f-8e3a2dc11bf6",
   "metadata": {},
   "source": [
    "### Append to code to the local CSV"
   ]
  },
  {
   "cell_type": "markdown",
   "id": "43153451-4efc-4107-9257-ecb711e40591",
   "metadata": {},
   "source": [
    "Code the logic that will : \n",
    "- Create the `data/EUR_rates.csv` with the header if it doesn't exist\n",
    "- Append our line of value to the current file"
   ]
  },
  {
   "cell_type": "code",
   "execution_count": null,
   "id": "1d73a5ca-ba54-419b-82a6-53aee7bbcccc",
   "metadata": {
    "tags": []
   },
   "outputs": [],
   "source": [
    "# TODO"
   ]
  },
  {
   "cell_type": "markdown",
   "id": "eb72f324-ff0b-471a-9fd3-7fe0bf1d848f",
   "metadata": {},
   "source": [
    "Run the whole notebook several time and check if your CSV file is appending the new line of data with the following command :"
   ]
  },
  {
   "cell_type": "code",
   "execution_count": null,
   "id": "0b40e4d2-3004-40a6-99e4-fc1fdbb691ab",
   "metadata": {
    "tags": []
   },
   "outputs": [],
   "source": [
    "# TODO"
   ]
  },
  {
   "cell_type": "markdown",
   "id": "5683ff6b-486c-48a5-8592-71448c9a4294",
   "metadata": {
    "tags": []
   },
   "source": [
    "### Wrapping up"
   ]
  },
  {
   "cell_type": "markdown",
   "id": "b27b495a-4425-4552-98a4-92764875b320",
   "metadata": {},
   "source": [
    "Congratulations ! You are now able to build an history of EUR to USD / GBP / CNY / DKK data using a token based API. This code can be scheduled every day with Prefact to update your CSV file and to slowly be able to build a daily rates datasource."
   ]
  }
 ],
 "metadata": {
  "kernelspec": {
   "display_name": "Python 3.9.12 64-bit",
   "language": "python",
   "name": "python3"
  },
  "language_info": {
   "codemirror_mode": {
    "name": "ipython",
    "version": 3
   },
   "file_extension": ".py",
   "mimetype": "text/x-python",
   "name": "python",
   "nbconvert_exporter": "python",
   "pygments_lexer": "ipython3",
   "version": "3.9.12"
  },
  "vscode": {
   "interpreter": {
    "hash": "aee8b7b246df8f9039afb4144a1f6fd8d2ca17a180786b69acc140d282b71a49"
   }
  }
 },
 "nbformat": 4,
 "nbformat_minor": 5
}
